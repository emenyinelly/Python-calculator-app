{
 "cells": [
  {
   "cell_type": "code",
   "execution_count": null,
   "id": "2d1c49fb",
   "metadata": {},
   "outputs": [],
   "source": [
    "def calculator(num1, num2):\n",
    "    operator = input(\"Enter the operator (+, -, *, /): \")\n",
    "\n",
    "    if operator == '+':\n",
    "        return num1 + num2\n",
    "    elif operator == '-':\n",
    "        return num1 - num2\n",
    "    elif operator == '*':\n",
    "        return num1 * num2\n",
    "    elif operator == '/':\n",
    "        if num2 == 0:\n",
    "            return \"Error: Division by zero is not allowed.\"\n",
    "        else:\n",
    "            return num1 / num2\n",
    "    else:\n",
    "        return \"Error: Invalid operator.\"\n",
    "\n",
    "# Loop to allow multiple calculations\n",
    "while True:\n",
    "    try:\n",
    "        num1 = float(input(\"\\nEnter the first number: \"))\n",
    "        num2 = float(input(\"Enter the second number: \"))\n",
    "\n",
    "        result = calculator(num1, num2)\n",
    "        print(f\"The result is: {result}\")\n",
    "\n",
    "    except ValueError:\n",
    "        print(\"Invalid input. Please enter numeric values.\")\n",
    "\n",
    "    # Ask if user wants to perform another calculation\n",
    "    again = input(\"Do you want to perform another calculation? (yes/no): \").strip().lower()\n",
    "    if again != 'yes':\n",
    "        print(\"Thank you for using the calculator. Goodbye!\")\n",
    "        break\n"
   ]
  }
 ],
 "metadata": {
  "language_info": {
   "name": "python"
  }
 },
 "nbformat": 4,
 "nbformat_minor": 5
}
